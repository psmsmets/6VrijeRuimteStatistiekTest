{
 "cells": [
  {
   "cell_type": "markdown",
   "id": "fd228deb-2e35-40ca-b5fa-78c470385b6c",
   "metadata": {},
   "source": [
    "# Vrije Ruimte Statistiek: verband tussen 2 variabelen\n",
    "\n",
    "Noteer je antwoord in deze notebook. Je mag alles gebruiken wat voor handen is. Zelfs het internet. De test maak je per twee, maar jullie beiden dienen wel een versie te uploaden in smartschool.\n",
    "\n",
    "Leg duidelijk uit hoe je tot je antwoord komt en gebruik de begrippen die we in de les hebben gezien. \n",
    "\n",
    "Veel succes!"
   ]
  },
  {
   "cell_type": "markdown",
   "id": "b816bac0-0c1d-4d55-bd23-617236e7b5a0",
   "metadata": {},
   "source": [
    "## Vraag 1 (2 ptn)\n",
    "Definiëer in onderstaande cel de variabele `namen` die jullie beide namen bevat (`voornaam familienaam`)."
   ]
  },
  {
   "cell_type": "code",
   "execution_count": null,
   "id": "37b033c4-489c-4aff-baca-7a727bd661c4",
   "metadata": {},
   "outputs": [],
   "source": []
  },
  {
   "cell_type": "markdown",
   "id": "af5eb758-df07-4208-b4e3-6cb8f4f37611",
   "metadata": {},
   "source": [
    "`Print` voor de zekerheid nog even de variabele met de namen naar het scherm."
   ]
  },
  {
   "cell_type": "code",
   "execution_count": null,
   "id": "9ce49b2b-1d13-4095-b513-24c483fe1369",
   "metadata": {},
   "outputs": [],
   "source": []
  },
  {
   "cell_type": "markdown",
   "id": "555a1254-be65-4834-8a23-93aaa8f5730d",
   "metadata": {},
   "source": [
    "## Vraag 2 (6 ptn)\n",
    "\n",
    "In de onderstaande tabel zie je de uitslag van een stemming in het Engelse parlement in 1844 over een werkdag van 10 uur voor kinderen in de katoennijverheid. \n",
    "Van de observaties hebben we twee kenmerken (variabelen): of zij voor of tegen stemden en de politieke partij waartoe ze behoorden. \n",
    "\n",
    "De bivariate informatie vind je terug in onderstaande tabel als de variabele `stemming`. \n",
    "Ga bij de vragen ineens aan de slag met deze variabele"
   ]
  },
  {
   "cell_type": "code",
   "execution_count": null,
   "id": "d82e8a01-e85b-490e-bbcb-6a034100f7d2",
   "metadata": {},
   "outputs": [],
   "source": [
    "stemming <- data.frame(\n",
    "    Ja = c(94, 100),\n",
    "    Nee = c(56, 135)\n",
    ")\n",
    "rownames(stemming) <- c(\"Liberalen\", \"Conservatieven\")\n",
    "stemming = as.matrix(stemming)"
   ]
  },
  {
   "cell_type": "markdown",
   "id": "9d3d5d5e-830c-4c98-8eed-e866c08cb638",
   "metadata": {},
   "source": [
    "a. Toon de opgemaakte tabel met de resultaten van stemming en de politieke partijen."
   ]
  },
  {
   "cell_type": "code",
   "execution_count": null,
   "id": "683b649e-c26d-474f-bee9-0b4e10bee796",
   "metadata": {},
   "outputs": [],
   "source": []
  },
  {
   "cell_type": "markdown",
   "id": "aa55c569-d1ce-4f0c-92e4-8cfc71921dd3",
   "metadata": {},
   "source": [
    "b. Bepaal van bovenstaande tabel de marginale informatie van de politieke partij en het stemgedrag.\n",
    "\n",
    "_Tip: je kan met `apply(x,1,sum)` de som nemen over de rijen en met `apply(x,2,sum)` de som over de kolommen. En wie echt lui is doet eerst even `help(addmargins)`._"
   ]
  },
  {
   "cell_type": "code",
   "execution_count": null,
   "id": "e83bf06d-5e9a-40f6-84ab-e07ce94044dd",
   "metadata": {},
   "outputs": [],
   "source": []
  },
  {
   "cell_type": "markdown",
   "id": "fb3d19d6-291d-4cf4-87b9-dfa676afa7db",
   "metadata": {},
   "source": [
    "c. Hoeveel voor en tegen stemmen zijn er?"
   ]
  },
  {
   "cell_type": "code",
   "execution_count": null,
   "id": "4e4785b7-e8cf-4c96-b9ed-3727965c6fcb",
   "metadata": {},
   "outputs": [],
   "source": []
  },
  {
   "cell_type": "markdown",
   "id": "fa10a1be-28ba-4be1-b6af-ab595bc917e1",
   "metadata": {},
   "source": [
    "d. Heeft de partij van Boris Johnson of van Jeremy Corbyn de meeste stemmen?"
   ]
  },
  {
   "cell_type": "markdown",
   "id": "916c97bf-f2ea-4eb2-a2e9-9c6dda42e0ad",
   "metadata": {},
   "source": []
  },
  {
   "cell_type": "markdown",
   "id": "e5c4eb9f-ee45-47fc-ad59-68e167efb833",
   "metadata": {},
   "source": [
    "e. Maak op basis van de bivariate informatie een nieuwe tabel die je de conditionele proporties geeft per politieke partij. \n",
    "\n",
    "_Tip: gebruik `prop.table(x, 1 of 2)` dit geeft een tabel van percentages. Gebruik 1 om de rij als voorwaarde te gebruiken en 2 voor de kolommen._"
   ]
  },
  {
   "cell_type": "code",
   "execution_count": null,
   "id": "b2fa05a8-0d9e-40e9-aeed-ff4745abfcd9",
   "metadata": {},
   "outputs": [],
   "source": []
  },
  {
   "cell_type": "markdown",
   "id": "6a11837c-2c6a-4ede-b162-b356718a0b96",
   "metadata": {},
   "source": [
    "f. Gegeven dat iemand nee stemt, wat bedraagt de kans dat hij/zij een partijgenoot zou zijn van Boris Johnson?"
   ]
  },
  {
   "cell_type": "code",
   "execution_count": null,
   "id": "fbfa923c-b2bd-481d-9545-a86d785ba343",
   "metadata": {},
   "outputs": [],
   "source": []
  },
  {
   "cell_type": "markdown",
   "id": "3db04977-3cb2-4a2b-aea1-66686db80073",
   "metadata": {},
   "source": [
    "## Vraag 3 (12 ptn)\n",
    "\n",
    "Sinds de Olympische spelen van 1928 in Amsterdam is hoogspringen voor vrouwen een Olympische discipline. De resultaten van alle gouden medailles in deze discipline zie je hieronder. Bij het land zie je de Engelstalige afkorting. Tijdens de tweede wereldoorlog werden geen Olympische spelen georganiseerd zodat er geen gegevens zijn voor 1940 en 1944."
   ]
  },
  {
   "cell_type": "markdown",
   "id": "7376e816-c60f-462c-9cf4-49a5ca84b17c",
   "metadata": {},
   "source": [
    "Lees het bestand `olympisch_goud_hoogspringen_vrouwen.csv` in met de functie `read.csv` in de variabele `hoogspringen`."
   ]
  },
  {
   "cell_type": "code",
   "execution_count": null,
   "id": "349ab73c-4d73-45f3-8fb1-76d32c85873b",
   "metadata": {},
   "outputs": [],
   "source": [
    "hoogspringen = read.csv('olympisch_goud_hoogspringen_vrouwen.csv')"
   ]
  },
  {
   "cell_type": "markdown",
   "id": "9f390244-7df9-4912-983c-6c1cb09a3e90",
   "metadata": {},
   "source": [
    "a. Toon de eerste regels van de tabel met de functie `head`."
   ]
  },
  {
   "cell_type": "code",
   "execution_count": null,
   "id": "f7eef5bb-f3bc-44f1-ae61-f2e30b64ad71",
   "metadata": {},
   "outputs": [],
   "source": []
  },
  {
   "cell_type": "markdown",
   "id": "643aaba5-27f5-496b-b246-153787078e85",
   "metadata": {},
   "source": [
    "Stel dat je bovenstaande informatie wil gebruiken om in te schatten hoe hoog de atlete met de gouden medaille zou gesprongen hebben als er in 1940 wel Olympische spelen hadden plaatsgevonden.\n",
    "\n",
    "b. Welke veranderlijke kies je dan als verklarende en welke als respons?"
   ]
  },
  {
   "cell_type": "markdown",
   "id": "d1fdf444-4bc5-47d5-afb0-38d8efd94459",
   "metadata": {},
   "source": []
  },
  {
   "cell_type": "markdown",
   "id": "b77e76f4-acc6-4c62-ad33-399f77bce911",
   "metadata": {},
   "source": [
    "c. Teken de gepaste puntenwolk op basis van je antwoord bij b."
   ]
  },
  {
   "cell_type": "code",
   "execution_count": null,
   "id": "05715f70-02cd-4511-a7e7-ccf758e76ea7",
   "metadata": {},
   "outputs": [],
   "source": []
  },
  {
   "cell_type": "markdown",
   "id": "ae8e27a2-6f37-4196-99b6-0032b603bdcc",
   "metadata": {},
   "source": [
    "d. Wat kan je op het zicht zeggen over het verband (verband, positief of negatief, zwak of sterk)? Leg uit."
   ]
  },
  {
   "cell_type": "markdown",
   "id": "670d16ce-fa3b-4308-960a-258d8c5549d2",
   "metadata": {},
   "source": []
  },
  {
   "cell_type": "markdown",
   "id": "68f1b3bb-b28f-4bec-ab26-9eba4d36f2c1",
   "metadata": {},
   "source": [
    "e. Vul in: Ik ga een regressie van ...... over ...... uitvoeren."
   ]
  },
  {
   "cell_type": "markdown",
   "id": "eae4823c-e234-431a-aa78-ab973a493990",
   "metadata": {},
   "source": []
  },
  {
   "cell_type": "markdown",
   "id": "2694fe57-6dca-423e-a66e-99aa2ee3487e",
   "metadata": {},
   "source": [
    "f. Bereken de correlatiecoëfficiënt."
   ]
  },
  {
   "cell_type": "code",
   "execution_count": null,
   "id": "2c1075bc-c754-47d3-9be6-6cc7705089ae",
   "metadata": {},
   "outputs": [],
   "source": []
  },
  {
   "cell_type": "markdown",
   "id": "41cd14e5-734f-496a-a59d-c96ad773a00e",
   "metadata": {},
   "source": [
    "g. Bevestigt de correlatie je antwoord in puntje c? Waarom wel/niet? Leg uit. "
   ]
  },
  {
   "cell_type": "markdown",
   "id": "f65eee7f-2180-47e3-9739-4eb2e6d1b2c3",
   "metadata": {},
   "source": []
  },
  {
   "cell_type": "markdown",
   "id": "c8d4e1d9-f435-4da2-af9f-d974517d44d8",
   "metadata": {},
   "source": [
    "h. Bereken nu de regressierechte. Print de coëfficienten en voeg de regressierechte toe aan de puntenwolk."
   ]
  },
  {
   "cell_type": "code",
   "execution_count": null,
   "id": "28edfbd3-d880-41eb-8a5e-a0d6cab454b0",
   "metadata": {},
   "outputs": [],
   "source": []
  },
  {
   "cell_type": "markdown",
   "id": "74835123-fb6a-46c0-a675-a1010de79a8a",
   "metadata": {},
   "source": [
    "i. Voorspel de waarde voor de jaren 1940 en 1944."
   ]
  },
  {
   "cell_type": "code",
   "execution_count": null,
   "id": "fb423cb9-3f0d-4cdc-9a13-f52597eb45ca",
   "metadata": {},
   "outputs": [],
   "source": []
  },
  {
   "cell_type": "markdown",
   "id": "d78367c7-e81a-4b6e-b574-c7354ac74a47",
   "metadata": {},
   "source": [
    "j. Hoe hoog zal de beste atlete op de volgende Olympische spelen van Parijs 2024 springen?"
   ]
  },
  {
   "cell_type": "code",
   "execution_count": null,
   "id": "98def5c3-56aa-42dd-b0c4-186229ef94e1",
   "metadata": {},
   "outputs": [],
   "source": []
  },
  {
   "cell_type": "markdown",
   "id": "7493ee80-ca41-4305-ba60-ec382cb3eeda",
   "metadata": {},
   "source": [
    "k. Ga je deze rechte ook gebruiken om te voorspellen hoe hoog de beste atlete op de Olympische spelen van 2044 gaat springen (en hoe hoog zou dat zijn)? Leg uit."
   ]
  },
  {
   "cell_type": "markdown",
   "id": "b718ba1e-bca7-486d-9a67-1c195a711113",
   "metadata": {},
   "source": []
  }
 ],
 "metadata": {
  "kernelspec": {
   "display_name": "R",
   "language": "R",
   "name": "ir"
  },
  "language_info": {
   "codemirror_mode": "r",
   "file_extension": ".r",
   "mimetype": "text/x-r-source",
   "name": "R",
   "pygments_lexer": "r",
   "version": "4.2.3"
  }
 },
 "nbformat": 4,
 "nbformat_minor": 5
}
